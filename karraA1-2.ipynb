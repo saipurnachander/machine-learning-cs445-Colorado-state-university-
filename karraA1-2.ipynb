{
 "cells": [
  {
   "cell_type": "markdown",
   "metadata": {},
   "source": [
    "# A1.1 Linear Regression with SGD"
   ]
  },
  {
   "cell_type": "markdown",
   "metadata": {},
   "source": [
    "* A1.1: *Added preliminary grading script in last cells of notebook.*"
   ]
  },
  {
   "cell_type": "markdown",
   "metadata": {},
   "source": [
    "In this assignment, you will implement three functions `train`, `use`, and `rmse` and apply them to some weather data.\n",
    "Here are the specifications for these functions, which you must satisfy."
   ]
  },
  {
   "cell_type": "markdown",
   "metadata": {},
   "source": [
    "`model = train(X, T, learning_rate, n_epochs, verbose)`\n",
    "* `X`: is an $N$ x $D$ matrix of input data samples, one per row. $N$ is the number of samples and $D$ is the number of variable values in\n",
    "each sample.\n",
    "* `T`: is an $N$ x $K$ matrix of desired target values for each sample.  $K$ is the number of output values you want to predict for each sample.\n",
    "* `learning_rate`: is a scalar that controls the step size of each update to the weight values.\n",
    "* `n_epochs`: is the number of epochs, or passes, through all $N$ samples, to take while updating the weight values.\n",
    "* `verbose`: is True or False (default value) to control whether or not occasional text is printed to show the training progress.\n",
    "* `model`: is the returned value, which must be a dictionary with the keys `'w'`, `'Xmeans'`, `'Xstds'`, `'Tmeans'` and `'Tstds'`.\n",
    "\n",
    "`Y = use(X, model)`\n",
    "* `X`: is an $N$ x $D$ matrix of input data samples, one per row, for which you want to predict the target values.\n",
    "* `model`: is the dictionary returned by `train`.\n",
    "* `Y`: is the returned $N$ x $K$ matrix of predicted values, one for each sample in `X`.\n",
    "\n",
    "`result = rmse(Y, T)`\n",
    "* `Y`: is an $N$ x $K$ matrix of predictions produced by `use`.\n",
    "* `T`: is the $N$ x $K$ matrix of target values.\n",
    "* `result`: is a scalar calculated as the square root of the mean of the squared differences between each sample (row) in `Y` and `T`."
   ]
  },
  {
   "cell_type": "markdown",
   "metadata": {},
   "source": [
    "To get you started, here are the standard imports we need."
   ]
  },
  {
   "cell_type": "code",
   "execution_count": 25,
   "metadata": {
    "lines_to_next_cell": 1
   },
   "outputs": [],
   "source": [
    "import numpy as np\n",
    "import matplotlib.pyplot as plt\n",
    "import pandas"
   ]
  },
  {
   "cell_type": "markdown",
   "metadata": {},
   "source": [
    "## 60 points: 40 for train, 10 for use, 10 for rmse"
   ]
  },
  {
   "cell_type": "markdown",
   "metadata": {},
   "source": [
    "Now here is a start at defining the `train`, `use`, and `rmse`\n",
    "functions.  Fill in the correct code wherever you see `. . .` with\n",
    "one or more lines of code."
   ]
  },
  {
   "cell_type": "code",
   "execution_count": 26,
   "metadata": {
    "lines_to_next_cell": 1
   },
   "outputs": [],
   "source": [
    "def train(X, T, learning_rate, n_epochs, verbose=False):\n",
    "    \n",
    "      \n",
    "#To calculate the mean and standard deviation of the input features X and T along the columns (axis=0).  \n",
    "    Xmeans = np.mean(X, axis=0)\n",
    "    Xstds = np.std(X, axis=0)\n",
    "    Tmeans = np.mean(T, axis=0)\n",
    "    Tstds = np.std(T, axis=0)\n",
    "#Xmeans,Xstds,Tmeans and Tstds are used to normalize the input data, which helps to ensure that \n",
    "#all features are on the same scale and to prevent any one feature from having \n",
    "#too much influence on the model's predictions.  \n",
    "    X = (X - Xmeans) / Xstds\n",
    "    np.mean(X, axis=0), np.std(X, axis=0)\n",
    "    T = (T - Tmeans) / Tstds\n",
    "    np.mean(T, axis=0), np.std(T, axis=0)\n",
    "    \n",
    "    #a column of ones is added to the input data\n",
    "    X = np.insert(X, 0, 1, 1)\n",
    "    \n",
    "    n_samples, n_inputs = X.shape\n",
    "    w = np.zeros((n_inputs, 1)) \n",
    "#The training process then begins, iterating over the number of epochs specified. For each epoch, \n",
    "#the function iterates over each sample in the input data, using the current model parameters to make a \n",
    "#prediction. The prediction error is calculated and used to update the model parameters using gradient descent.\n",
    "#The mean squared error (MSE) is calculated over all samples for each epoch and is used as a \n",
    "#measure of the model's performance.\n",
    "    for epoch in range(n_epochs):\n",
    "        sqerror_sum = 0\n",
    "        for n in range(n_samples):\n",
    "            y = X[n:n + 1, :] @ w      \n",
    "            error = T[n:n + 1, :] - y  \n",
    "            w += learning_rate * X[n:n + 1, :].T * error\n",
    "            sqerror_sum += error ** 2\n",
    "\n",
    "        if verbose and (n_epochs < 11 or (epoch + 1) % (n_epochs // 10) == 0):\n",
    "            Y = X @ w\n",
    "            ER = rmse(T,Y)\n",
    "            print(f'Epoch {epoch + 1} RMSE {ER:.4f}')\n",
    "    return {'w': w, 'Xmeans': Xmeans, 'Xstds': Xstds,\n",
    "            'Tmeans': Tmeans, 'Tstds': Tstds}"
   ]
  },
  {
   "cell_type": "code",
   "execution_count": 27,
   "metadata": {
    "lines_to_next_cell": 1
   },
   "outputs": [],
   "source": [
    "def use(X, model):    \n",
    "    X = (X - model['Xmeans']) / model['Xstds']\n",
    "    w = model['w']\n",
    "    X = np.insert(X, 0, 1, 1)\n",
    "    out = X @ w\n",
    "    out = (out*model['Tstds']) + model['Tmeans']\n",
    "    return out"
   ]
  },
  {
   "cell_type": "code",
   "execution_count": 28,
   "metadata": {
    "lines_to_next_cell": 1
   },
   "outputs": [],
   "source": [
    "def rmse(a,b): \n",
    "    return np.sqrt(np.sum((a - b)**2)/a.shape[0])"
   ]
  },
  {
   "cell_type": "markdown",
   "metadata": {},
   "source": [
    "Here is a simple example use of your functions to help you debug them.  Your functions must produce the same results."
   ]
  },
  {
   "cell_type": "code",
   "execution_count": 29,
   "metadata": {},
   "outputs": [
    {
     "data": {
      "image/png": "[encoded data removed]",
      "text/plain": [
       "<Figure size 432x288 with 1 Axes>"
      ]
     },
     "metadata": {
      "needs_background": "light"
     },
     "output_type": "display_data"
    }
   ],
   "source": [
    "X = np.arange(0, 100).reshape(-1, 1)  # make X a 100 x 1 matrix\n",
    "T = 0.5  * X + 0.005 * (X - 50) ** 2\n",
    "plt.plot(X, T, '.')\n",
    "plt.xlabel('X')\n",
    "plt.ylabel('T');"
   ]
  },
  {
   "cell_type": "code",
   "execution_count": 30,
   "metadata": {},
   "outputs": [
    {
     "name": "stdout",
     "output_type": "stream",
     "text": [
      "Epoch 10 RMSE 0.4315\n",
      "Epoch 20 RMSE 0.2807\n",
      "Epoch 30 RMSE 0.2554\n",
      "Epoch 40 RMSE 0.2525\n",
      "Epoch 50 RMSE 0.2523\n",
      "Epoch 60 RMSE 0.2524\n",
      "Epoch 70 RMSE 0.2524\n",
      "Epoch 80 RMSE 0.2525\n",
      "Epoch 90 RMSE 0.2525\n",
      "Epoch 100 RMSE 0.2525\n"
     ]
    },
    {
     "data": {
      "text/plain": [
       "{'w': array([[6.96008927e-05],\n",
       "        [9.76447797e-01]]),\n",
       " 'Xmeans': array([49.5]),\n",
       " 'Xstds': array([28.86607005]),\n",
       " 'Tmeans': array([28.9175]),\n",
       " 'Tstds': array([14.76648321])}"
      ]
     },
     "execution_count": 30,
     "metadata": {},
     "output_type": "execute_result"
    }
   ],
   "source": [
    "model = train(X, T, 0.001, 100, verbose=True)\n",
    "model"
   ]
  },
  {
   "cell_type": "code",
   "execution_count": 31,
   "metadata": {},
   "outputs": [
    {
     "data": {
      "text/plain": [
       "<matplotlib.legend.Legend at 0x7ffd300805e0>"
      ]
     },
     "execution_count": 31,
     "metadata": {},
     "output_type": "execute_result"
    },
    {
     "data": {
      "image/png": "[encoded data removed]",
      "text/plain": [
       "<Figure size 432x288 with 1 Axes>"
      ]
     },
     "metadata": {
      "needs_background": "light"
     },
     "output_type": "display_data"
    }
   ],
   "source": [
    "Y = use(X, model)\n",
    "plt.plot(T, '.', label='T')\n",
    "plt.plot(Y, '.', label='Y')\n",
    "plt.legend()"
   ]
  },
  {
   "cell_type": "code",
   "execution_count": 32,
   "metadata": {},
   "outputs": [
    {
     "data": {
      "text/plain": [
       "[<matplotlib.lines.Line2D at 0x7ffd40180610>]"
      ]
     },
     "execution_count": 32,
     "metadata": {},
     "output_type": "execute_result"
    },
    {
     "data": {
      "image/png": "[encoded data removed]",
      "text/plain": [
       "<Figure size 432x288 with 1 Axes>"
      ]
     },
     "metadata": {
      "needs_background": "light"
     },
     "output_type": "display_data"
    }
   ],
   "source": [
    "plt.plot(Y[:, 0], T[:, 0], 'o')\n",
    "plt.xlabel('Predicted')\n",
    "plt.ylabel('Actual')\n",
    "a = max(min(Y[:, 0]), min(T[:, 0]))\n",
    "b = min(max(Y[:, 0]), max(T[:, 0]))\n",
    "plt.plot([a, b], [a, b], 'r', linewidth=3)"
   ]
  },
  {
   "cell_type": "markdown",
   "metadata": {},
   "source": [
    "## Weather Data"
   ]
  },
  {
   "cell_type": "markdown",
   "metadata": {},
   "source": [
    "Now that your functions are working, we can apply them to some real data. We will use data\n",
    "from  [CSU's CoAgMet Station Daily Data Access](http://coagmet.colostate.edu/cgi-bin/dailydata_form.pl).\n",
    "\n",
    "You can get the data file [here](http://www.cs.colostate.edu/~cs445/notebooks/A1_data.txt)"
   ]
  },
  {
   "cell_type": "markdown",
   "metadata": {},
   "source": [
    "## 5 points:\n",
    "\n",
    "Read in the data into variable `df` using `pandas.read_csv` like we did in lecture notes.\n",
    "Missing values in this dataset are indicated by the string `'***'`."
   ]
  },
  {
   "cell_type": "code",
   "execution_count": 33,
   "metadata": {},
   "outputs": [
    {
     "data": {
      "text/html": [
       "<div>\n",
       "<style scoped>\n",
       "    .dataframe tbody tr th:only-of-type {\n",
       "        vertical-align: middle;\n",
       "    }\n",
       "\n",
       "    .dataframe tbody tr th {\n",
       "        vertical-align: top;\n",
       "    }\n",
       "\n",
       "    .dataframe thead th {\n",
       "        text-align: right;\n",
       "    }\n",
       "</style>\n",
       "<table border=\"1\" class=\"dataframe\">\n",
       "  <thead>\n",
       "    <tr style=\"text-align: right;\">\n",
       "      <th></th>\n",
       "      <th>Year</th>\n",
       "      <th>Mo</th>\n",
       "      <th>Dy</th>\n",
       "      <th>tave</th>\n",
       "      <th>tmax</th>\n",
       "      <th>mxtm</th>\n",
       "      <th>tmin</th>\n",
       "      <th>mntm</th>\n",
       "      <th>vp</th>\n",
       "      <th>rhmax</th>\n",
       "      <th>...</th>\n",
       "      <th>st15mx</th>\n",
       "      <th>st15mxtm</th>\n",
       "      <th>st15mn</th>\n",
       "      <th>st15mntm</th>\n",
       "      <th>volts</th>\n",
       "      <th>year</th>\n",
       "      <th>gust</th>\n",
       "      <th>gusttm</th>\n",
       "      <th>gusdir</th>\n",
       "      <th>etr_asce</th>\n",
       "    </tr>\n",
       "  </thead>\n",
       "  <tbody>\n",
       "    <tr>\n",
       "      <th>0</th>\n",
       "      <td>2019</td>\n",
       "      <td>1</td>\n",
       "      <td>1</td>\n",
       "      <td>-13.535</td>\n",
       "      <td>-10.073</td>\n",
       "      <td>14:10</td>\n",
       "      <td>-16.997</td>\n",
       "      <td>23:50</td>\n",
       "      <td>0.153</td>\n",
       "      <td>0.830</td>\n",
       "      <td>...</td>\n",
       "      <td>-1.803</td>\n",
       "      <td>00:00</td>\n",
       "      <td>-3.195</td>\n",
       "      <td>23:00</td>\n",
       "      <td>NaN</td>\n",
       "      <td>2019.0</td>\n",
       "      <td>5.155</td>\n",
       "      <td>08:10</td>\n",
       "      <td>NaN</td>\n",
       "      <td>0.324</td>\n",
       "    </tr>\n",
       "    <tr>\n",
       "      <th>1</th>\n",
       "      <td>2019</td>\n",
       "      <td>1</td>\n",
       "      <td>2</td>\n",
       "      <td>-5.791</td>\n",
       "      <td>6.010</td>\n",
       "      <td>14:50</td>\n",
       "      <td>-17.591</td>\n",
       "      <td>04:00</td>\n",
       "      <td>0.209</td>\n",
       "      <td>0.839</td>\n",
       "      <td>...</td>\n",
       "      <td>-2.941</td>\n",
       "      <td>19:00</td>\n",
       "      <td>-4.802</td>\n",
       "      <td>11:00</td>\n",
       "      <td>NaN</td>\n",
       "      <td>2019.0</td>\n",
       "      <td>4.332</td>\n",
       "      <td>11:50</td>\n",
       "      <td>NaN</td>\n",
       "      <td>0.521</td>\n",
       "    </tr>\n",
       "    <tr>\n",
       "      <th>2</th>\n",
       "      <td>2019</td>\n",
       "      <td>1</td>\n",
       "      <td>3</td>\n",
       "      <td>1.374</td>\n",
       "      <td>13.444</td>\n",
       "      <td>13:50</td>\n",
       "      <td>-10.696</td>\n",
       "      <td>05:00</td>\n",
       "      <td>0.340</td>\n",
       "      <td>0.836</td>\n",
       "      <td>...</td>\n",
       "      <td>-1.979</td>\n",
       "      <td>22:00</td>\n",
       "      <td>-4.639</td>\n",
       "      <td>10:00</td>\n",
       "      <td>NaN</td>\n",
       "      <td>2019.0</td>\n",
       "      <td>4.096</td>\n",
       "      <td>15:40</td>\n",
       "      <td>NaN</td>\n",
       "      <td>0.729</td>\n",
       "    </tr>\n",
       "    <tr>\n",
       "      <th>3</th>\n",
       "      <td>2019</td>\n",
       "      <td>1</td>\n",
       "      <td>4</td>\n",
       "      <td>4.544</td>\n",
       "      <td>15.089</td>\n",
       "      <td>14:40</td>\n",
       "      <td>-6.000</td>\n",
       "      <td>06:00</td>\n",
       "      <td>0.429</td>\n",
       "      <td>0.815</td>\n",
       "      <td>...</td>\n",
       "      <td>-0.963</td>\n",
       "      <td>23:00</td>\n",
       "      <td>-2.768</td>\n",
       "      <td>10:00</td>\n",
       "      <td>NaN</td>\n",
       "      <td>2019.0</td>\n",
       "      <td>4.096</td>\n",
       "      <td>12:30</td>\n",
       "      <td>NaN</td>\n",
       "      <td>0.893</td>\n",
       "    </tr>\n",
       "    <tr>\n",
       "      <th>4</th>\n",
       "      <td>2019</td>\n",
       "      <td>1</td>\n",
       "      <td>5</td>\n",
       "      <td>4.465</td>\n",
       "      <td>14.441</td>\n",
       "      <td>12:50</td>\n",
       "      <td>-5.510</td>\n",
       "      <td>06:40</td>\n",
       "      <td>0.399</td>\n",
       "      <td>0.769</td>\n",
       "      <td>...</td>\n",
       "      <td>-0.350</td>\n",
       "      <td>23:00</td>\n",
       "      <td>-1.401</td>\n",
       "      <td>11:00</td>\n",
       "      <td>NaN</td>\n",
       "      <td>2019.0</td>\n",
       "      <td>4.077</td>\n",
       "      <td>12:20</td>\n",
       "      <td>NaN</td>\n",
       "      <td>0.867</td>\n",
       "    </tr>\n",
       "    <tr>\n",
       "      <th>...</th>\n",
       "      <td>...</td>\n",
       "      <td>...</td>\n",
       "      <td>...</td>\n",
       "      <td>...</td>\n",
       "      <td>...</td>\n",
       "      <td>...</td>\n",
       "      <td>...</td>\n",
       "      <td>...</td>\n",
       "      <td>...</td>\n",
       "      <td>...</td>\n",
       "      <td>...</td>\n",
       "      <td>...</td>\n",
       "      <td>...</td>\n",
       "      <td>...</td>\n",
       "      <td>...</td>\n",
       "      <td>...</td>\n",
       "      <td>...</td>\n",
       "      <td>...</td>\n",
       "      <td>...</td>\n",
       "      <td>...</td>\n",
       "      <td>...</td>\n",
       "    </tr>\n",
       "    <tr>\n",
       "      <th>360</th>\n",
       "      <td>2019</td>\n",
       "      <td>12</td>\n",
       "      <td>27</td>\n",
       "      <td>-1.493</td>\n",
       "      <td>2.260</td>\n",
       "      <td>14:40</td>\n",
       "      <td>-5.245</td>\n",
       "      <td>07:30</td>\n",
       "      <td>0.403</td>\n",
       "      <td>0.908</td>\n",
       "      <td>...</td>\n",
       "      <td>0.308</td>\n",
       "      <td>06:00</td>\n",
       "      <td>0.257</td>\n",
       "      <td>14:00</td>\n",
       "      <td>NaN</td>\n",
       "      <td>2019.0</td>\n",
       "      <td>4.469</td>\n",
       "      <td>16:00</td>\n",
       "      <td>NaN</td>\n",
       "      <td>0.473</td>\n",
       "    </tr>\n",
       "    <tr>\n",
       "      <th>361</th>\n",
       "      <td>2019</td>\n",
       "      <td>12</td>\n",
       "      <td>28</td>\n",
       "      <td>-2.695</td>\n",
       "      <td>-1.102</td>\n",
       "      <td>01:50</td>\n",
       "      <td>-4.288</td>\n",
       "      <td>07:00</td>\n",
       "      <td>0.363</td>\n",
       "      <td>0.973</td>\n",
       "      <td>...</td>\n",
       "      <td>0.298</td>\n",
       "      <td>20:00</td>\n",
       "      <td>0.264</td>\n",
       "      <td>10:00</td>\n",
       "      <td>NaN</td>\n",
       "      <td>2019.0</td>\n",
       "      <td>10.623</td>\n",
       "      <td>12:20</td>\n",
       "      <td>NaN</td>\n",
       "      <td>0.681</td>\n",
       "    </tr>\n",
       "    <tr>\n",
       "      <th>362</th>\n",
       "      <td>2019</td>\n",
       "      <td>12</td>\n",
       "      <td>29</td>\n",
       "      <td>-3.731</td>\n",
       "      <td>1.871</td>\n",
       "      <td>13:30</td>\n",
       "      <td>-9.333</td>\n",
       "      <td>22:40</td>\n",
       "      <td>0.221</td>\n",
       "      <td>0.690</td>\n",
       "      <td>...</td>\n",
       "      <td>0.288</td>\n",
       "      <td>00:00</td>\n",
       "      <td>0.219</td>\n",
       "      <td>23:00</td>\n",
       "      <td>NaN</td>\n",
       "      <td>2019.0</td>\n",
       "      <td>11.486</td>\n",
       "      <td>07:10</td>\n",
       "      <td>NaN</td>\n",
       "      <td>1.039</td>\n",
       "    </tr>\n",
       "    <tr>\n",
       "      <th>363</th>\n",
       "      <td>2019</td>\n",
       "      <td>12</td>\n",
       "      <td>30</td>\n",
       "      <td>-5.427</td>\n",
       "      <td>1.293</td>\n",
       "      <td>13:40</td>\n",
       "      <td>-12.147</td>\n",
       "      <td>06:20</td>\n",
       "      <td>0.226</td>\n",
       "      <td>0.833</td>\n",
       "      <td>...</td>\n",
       "      <td>0.200</td>\n",
       "      <td>00:00</td>\n",
       "      <td>-0.150</td>\n",
       "      <td>23:00</td>\n",
       "      <td>NaN</td>\n",
       "      <td>2019.0</td>\n",
       "      <td>4.586</td>\n",
       "      <td>14:30</td>\n",
       "      <td>NaN</td>\n",
       "      <td>0.504</td>\n",
       "    </tr>\n",
       "    <tr>\n",
       "      <th>364</th>\n",
       "      <td>2019</td>\n",
       "      <td>12</td>\n",
       "      <td>31</td>\n",
       "      <td>-4.175</td>\n",
       "      <td>4.810</td>\n",
       "      <td>13:10</td>\n",
       "      <td>-13.160</td>\n",
       "      <td>06:50</td>\n",
       "      <td>0.247</td>\n",
       "      <td>0.862</td>\n",
       "      <td>...</td>\n",
       "      <td>-0.174</td>\n",
       "      <td>00:00</td>\n",
       "      <td>-0.917</td>\n",
       "      <td>13:00</td>\n",
       "      <td>NaN</td>\n",
       "      <td>2019.0</td>\n",
       "      <td>5.566</td>\n",
       "      <td>18:40</td>\n",
       "      <td>NaN</td>\n",
       "      <td>0.503</td>\n",
       "    </tr>\n",
       "  </tbody>\n",
       "</table>\n",
       "<p>365 rows × 30 columns</p>\n",
       "</div>"
      ],
      "text/plain": [
       "     Year  Mo  Dy    tave    tmax   mxtm    tmin   mntm     vp  rhmax  ...  \\\n",
       "0    2019   1   1 -13.535 -10.073  14:10 -16.997  23:50  0.153  0.830  ...   \n",
       "1    2019   1   2  -5.791   6.010  14:50 -17.591  04:00  0.209  0.839  ...   \n",
       "2    2019   1   3   1.374  13.444  13:50 -10.696  05:00  0.340  0.836  ...   \n",
       "3    2019   1   4   4.544  15.089  14:40  -6.000  06:00  0.429  0.815  ...   \n",
       "4    2019   1   5   4.465  14.441  12:50  -5.510  06:40  0.399  0.769  ...   \n",
       "..    ...  ..  ..     ...     ...    ...     ...    ...    ...    ...  ...   \n",
       "360  2019  12  27  -1.493   2.260  14:40  -5.245  07:30  0.403  0.908  ...   \n",
       "361  2019  12  28  -2.695  -1.102  01:50  -4.288  07:00  0.363  0.973  ...   \n",
       "362  2019  12  29  -3.731   1.871  13:30  -9.333  22:40  0.221  0.690  ...   \n",
       "363  2019  12  30  -5.427   1.293  13:40 -12.147  06:20  0.226  0.833  ...   \n",
       "364  2019  12  31  -4.175   4.810  13:10 -13.160  06:50  0.247  0.862  ...   \n",
       "\n",
       "    st15mx  st15mxtm st15mn  st15mntm  volts    year    gust gusttm  gusdir  \\\n",
       "0   -1.803     00:00 -3.195     23:00    NaN  2019.0   5.155  08:10     NaN   \n",
       "1   -2.941     19:00 -4.802     11:00    NaN  2019.0   4.332  11:50     NaN   \n",
       "2   -1.979     22:00 -4.639     10:00    NaN  2019.0   4.096  15:40     NaN   \n",
       "3   -0.963     23:00 -2.768     10:00    NaN  2019.0   4.096  12:30     NaN   \n",
       "4   -0.350     23:00 -1.401     11:00    NaN  2019.0   4.077  12:20     NaN   \n",
       "..     ...       ...    ...       ...    ...     ...     ...    ...     ...   \n",
       "360  0.308     06:00  0.257     14:00    NaN  2019.0   4.469  16:00     NaN   \n",
       "361  0.298     20:00  0.264     10:00    NaN  2019.0  10.623  12:20     NaN   \n",
       "362  0.288     00:00  0.219     23:00    NaN  2019.0  11.486  07:10     NaN   \n",
       "363  0.200     00:00 -0.150     23:00    NaN  2019.0   4.586  14:30     NaN   \n",
       "364 -0.174     00:00 -0.917     13:00    NaN  2019.0   5.566  18:40     NaN   \n",
       "\n",
       "    etr_asce  \n",
       "0      0.324  \n",
       "1      0.521  \n",
       "2      0.729  \n",
       "3      0.893  \n",
       "4      0.867  \n",
       "..       ...  \n",
       "360    0.473  \n",
       "361    0.681  \n",
       "362    1.039  \n",
       "363    0.504  \n",
       "364    0.503  \n",
       "\n",
       "[365 rows x 30 columns]"
      ]
     },
     "execution_count": 33,
     "metadata": {},
     "output_type": "execute_result"
    }
   ],
   "source": [
    "import pandas\n",
    "df = pandas.read_csv('A1_data.txt',delim_whitespace=True,na_values='***')\n",
    "df"
   ]
  },
  {
   "cell_type": "code",
   "execution_count": null,
   "metadata": {},
   "outputs": [],
   "source": []
  },
  {
   "cell_type": "markdown",
   "metadata": {},
   "source": [
    "## 5 points:\n",
    "\n",
    "Check for missing values by showing the number of NA values, as shown in lecture notes."
   ]
  },
  {
   "cell_type": "code",
   "execution_count": 34,
   "metadata": {},
   "outputs": [
    {
     "data": {
      "text/plain": [
       "Year          0\n",
       "Mo            0\n",
       "Dy            0\n",
       "tave          0\n",
       "tmax          0\n",
       "mxtm          0\n",
       "tmin          0\n",
       "mntm          0\n",
       "vp            0\n",
       "rhmax         0\n",
       "rhmxtm        0\n",
       "rhmin         0\n",
       "rhmntm        0\n",
       "sr            0\n",
       "wrun          0\n",
       "pp            0\n",
       "st5mx       211\n",
       "st5mxtm     211\n",
       "st5mn       211\n",
       "st5mntm     211\n",
       "st15mx        0\n",
       "st15mxtm      0\n",
       "st15mn        0\n",
       "st15mntm      0\n",
       "volts       365\n",
       "year          0\n",
       "gust          0\n",
       "gusttm        0\n",
       "gusdir      365\n",
       "etr_asce      0\n",
       "dtype: int64"
      ]
     },
     "execution_count": 34,
     "metadata": {},
     "output_type": "execute_result"
    }
   ],
   "source": [
    "df.isna().sum()"
   ]
  },
  {
   "cell_type": "markdown",
   "metadata": {},
   "source": [
    "## 5 points:\n",
    "\n",
    "If there are missing values, remove either samples or features that contain missing values. Prove that you\n",
    "were successful by counting the number of missing values now, which should be zero."
   ]
  },
  {
   "cell_type": "code",
   "execution_count": 35,
   "metadata": {},
   "outputs": [
    {
     "data": {
      "text/plain": [
       "Year        0.0\n",
       "Mo          0.0\n",
       "Dy          0.0\n",
       "tave        0.0\n",
       "tmax        0.0\n",
       "mxtm        0.0\n",
       "tmin        0.0\n",
       "mntm        0.0\n",
       "vp          0.0\n",
       "rhmax       0.0\n",
       "rhmxtm      0.0\n",
       "rhmin       0.0\n",
       "rhmntm      0.0\n",
       "sr          0.0\n",
       "wrun        0.0\n",
       "pp          0.0\n",
       "st5mx       0.0\n",
       "st5mxtm     0.0\n",
       "st5mn       0.0\n",
       "st5mntm     0.0\n",
       "st15mx      0.0\n",
       "st15mxtm    0.0\n",
       "st15mn      0.0\n",
       "st15mntm    0.0\n",
       "volts       0.0\n",
       "year        0.0\n",
       "gust        0.0\n",
       "gusttm      0.0\n",
       "gusdir      0.0\n",
       "etr_asce    0.0\n",
       "dtype: float64"
      ]
     },
     "execution_count": 35,
     "metadata": {},
     "output_type": "execute_result"
    }
   ],
   "source": [
    "df.dropna().isna().sum()"
   ]
  },
  {
   "cell_type": "markdown",
   "metadata": {},
   "source": [
    "Your job is now to create a linear model that predicts the next day's average temperature (tave) from the previous day's values. A discription of all features can be found [here](https://coagmet.colostate.edu/rawdata_docs.php). To start, consider just focusing on these features: \n",
    "1. tave: average temperature\n",
    "2. tmax: maximum temperature\n",
    "3. tmin: minimum temperature\n",
    "4. vp: vapor pressure\n",
    "5. rhmax: maximum relative humidity\n",
    "6. rhmin: minimum relative humidity\n",
    "7. pp: precipitation\n",
    "8. gust: wind gust speed\n",
    "\n",
    "First, modify the datafile to add a new column: 'next tave' -- here's a hint on your X and T vectors names:"
   ]
  },
  {
   "cell_type": "code",
   "execution_count": 36,
   "metadata": {},
   "outputs": [],
   "source": [
    "Xnames = ['tave', 'tmax', 'tmin', 'vp', 'rhmax', 'rhmin', 'pp', 'gust']\n",
    "Tnames = ['next tave']"
   ]
  },
  {
   "cell_type": "markdown",
   "metadata": {},
   "source": [
    "## 5 points:\n",
    "\n",
    "Now select those eight columns from `df` and convert the result to a `numpy` array.  (Easier than it sounds.)\n",
    "Then assign `X` to be all columns and all but the last row.  Assign `T` to be just the first column (tave) and all but the first sample.  So now the first row (sample) in `X` is associated with the first row (sample) in `T` which tave for the following day."
   ]
  },
  {
   "cell_type": "code",
   "execution_count": 37,
   "metadata": {},
   "outputs": [],
   "source": [
    "import pandas\n",
    "df = pandas.read_csv('A1_data.txt',delim_whitespace=True,na_values='***')"
   ]
  },
  {
   "cell_type": "code",
   "execution_count": 38,
   "metadata": {},
   "outputs": [
    {
     "data": {
      "image/png": "[encoded data removed]",
      "text/plain": [
       "<Figure size 720x720 with 8 Axes>"
      ]
     },
     "metadata": {
      "needs_background": "light"
     },
     "output_type": "display_data"
    }
   ],
   "source": [
    "X = df.loc[:, [\"tave\", \"tmax\", \"tmin\", \"vp\", \"rhmax\", \"rhmin\", \"pp\", \"gust\"]].values\n",
    "T = df.loc[:, [\"tave\"]].values\n",
    "Y = np.arange(0, 365).reshape(-1, 1) \n",
    "\n",
    "number_of_col =X.shape[1]\n",
    "plt.figure(figsize=(10, 10))\n",
    "for i in range(number_of_col):\n",
    "    plt.subplot(3,3, i+1)\n",
    "    plt.plot(X[:, i],T,'.')\n",
    "    plt.xlabel('Sample Number')\n",
    "    plt.ylabel(Xnames[i])\n",
    "\n",
    "plt.tight_layout()"
   ]
  },
  {
   "cell_type": "markdown",
   "metadata": {},
   "source": [
    "## 15 points:\n",
    "\n",
    "Use the function `train` to train a model for the `X`\n",
    "and `T` data.  Run it several times with different `learning_rate`\n",
    "and `n_epochs` values to produce decreasing errors. Use the `use`\n",
    "function and plots of `T` versus predicted `Y` values to show how\n",
    "well the model is working.  Type your observations of the plot and of the value of `rmse` to discuss how well the model succeeds."
   ]
  },
  {
   "cell_type": "code",
   "execution_count": 39,
   "metadata": {},
   "outputs": [
    {
     "data": {
      "text/plain": [
       "((365, 8), (365, 1))"
      ]
     },
     "execution_count": 39,
     "metadata": {},
     "output_type": "execute_result"
    }
   ],
   "source": [
    "X.shape,T.shape"
   ]
  },
  {
   "cell_type": "code",
   "execution_count": 40,
   "metadata": {},
   "outputs": [
    {
     "name": "stdout",
     "output_type": "stream",
     "text": [
      "Epoch 10 RMSE 0.0537\n",
      "Epoch 20 RMSE 0.0457\n",
      "Epoch 30 RMSE 0.0392\n",
      "Epoch 40 RMSE 0.0336\n",
      "Epoch 50 RMSE 0.0289\n",
      "Epoch 60 RMSE 0.0248\n",
      "Epoch 70 RMSE 0.0214\n",
      "Epoch 80 RMSE 0.0184\n",
      "Epoch 90 RMSE 0.0159\n",
      "Epoch 100 RMSE 0.0137\n"
     ]
    },
    {
     "data": {
      "text/plain": [
       "{'w': array([[ 7.75762017e-05],\n",
       "        [ 3.25776435e-01],\n",
       "        [ 3.28099187e-01],\n",
       "        [ 3.05007324e-01],\n",
       "        [ 4.94086114e-02],\n",
       "        [-7.05049847e-03],\n",
       "        [-2.03198606e-02],\n",
       "        [ 1.11403812e-03],\n",
       "        [-9.10253955e-04]]),\n",
       " 'Xmeans': array([ 9.63370137, 16.89363288,  2.37378356,  0.7994137 ,  0.84947397,\n",
       "         0.31428767,  1.14334795,  7.78255342]),\n",
       " 'Xstds': array([10.05942081, 11.24579184,  9.3914899 ,  0.47435961,  0.10807665,\n",
       "         0.17040356,  2.99119781,  2.86652354]),\n",
       " 'Tmeans': array([9.63370137]),\n",
       " 'Tstds': array([10.05942081])}"
      ]
     },
     "execution_count": 40,
     "metadata": {},
     "output_type": "execute_result"
    }
   ],
   "source": [
    "#1.learning rate=0.001 and number of epoch = 100\n",
    "model = train(X, T, 0.001, 100, verbose=True)\n",
    "model"
   ]
  },
  {
   "cell_type": "code",
   "execution_count": 41,
   "metadata": {},
   "outputs": [
    {
     "name": "stdout",
     "output_type": "stream",
     "text": [
      "Epoch 10 RMSE 0.2426\n",
      "Epoch 20 RMSE 0.0918\n",
      "Epoch 30 RMSE 0.0688\n",
      "Epoch 40 RMSE 0.0635\n",
      "Epoch 50 RMSE 0.0609\n",
      "Epoch 60 RMSE 0.0592\n",
      "Epoch 70 RMSE 0.0578\n",
      "Epoch 80 RMSE 0.0566\n",
      "Epoch 90 RMSE 0.0556\n",
      "Epoch 100 RMSE 0.0546\n"
     ]
    },
    {
     "data": {
      "text/plain": [
       "{'w': array([[-5.31600711e-05],\n",
       "        [ 2.64454749e-01],\n",
       "        [ 2.53874891e-01],\n",
       "        [ 2.62522516e-01],\n",
       "        [ 2.07928478e-01],\n",
       "        [-2.76703782e-02],\n",
       "        [-6.95810375e-02],\n",
       "        [ 4.24769497e-03],\n",
       "        [ 3.33167626e-03]]),\n",
       " 'Xmeans': array([ 9.63370137, 16.89363288,  2.37378356,  0.7994137 ,  0.84947397,\n",
       "         0.31428767,  1.14334795,  7.78255342]),\n",
       " 'Xstds': array([10.05942081, 11.24579184,  9.3914899 ,  0.47435961,  0.10807665,\n",
       "         0.17040356,  2.99119781,  2.86652354]),\n",
       " 'Tmeans': array([9.63370137]),\n",
       " 'Tstds': array([10.05942081])}"
      ]
     },
     "execution_count": 41,
     "metadata": {},
     "output_type": "execute_result"
    }
   ],
   "source": [
    "#2.learning rate=0.0001 and number of epoch = 100\n",
    "model = train(X, T, 0.0001, 100, verbose=True)\n",
    "model"
   ]
  },
  {
   "cell_type": "code",
   "execution_count": 42,
   "metadata": {},
   "outputs": [
    {
     "name": "stdout",
     "output_type": "stream",
     "text": [
      "Epoch 10 RMSE 0.0450\n",
      "Epoch 20 RMSE 0.0336\n",
      "Epoch 30 RMSE 0.0251\n",
      "Epoch 40 RMSE 0.0188\n",
      "Epoch 50 RMSE 0.0142\n",
      "Epoch 60 RMSE 0.0107\n",
      "Epoch 70 RMSE 0.0081\n",
      "Epoch 80 RMSE 0.0062\n",
      "Epoch 90 RMSE 0.0047\n",
      "Epoch 100 RMSE 0.0036\n"
     ]
    },
    {
     "data": {
      "text/plain": [
       "{'w': array([[ 1.02617963e-04],\n",
       "        [ 3.41319944e-01],\n",
       "        [ 3.53657007e-01],\n",
       "        [ 3.07701410e-01],\n",
       "        [ 1.17775128e-02],\n",
       "        [-1.43060857e-03],\n",
       "        [-6.12298633e-03],\n",
       "        [ 1.93235831e-04],\n",
       "        [-4.96734766e-04]]),\n",
       " 'Xmeans': array([ 9.63370137, 16.89363288,  2.37378356,  0.7994137 ,  0.84947397,\n",
       "         0.31428767,  1.14334795,  7.78255342]),\n",
       " 'Xstds': array([10.05942081, 11.24579184,  9.3914899 ,  0.47435961,  0.10807665,\n",
       "         0.17040356,  2.99119781,  2.86652354]),\n",
       " 'Tmeans': array([9.63370137]),\n",
       " 'Tstds': array([10.05942081])}"
      ]
     },
     "execution_count": 42,
     "metadata": {},
     "output_type": "execute_result"
    }
   ],
   "source": [
    "#3.learning rate=0.002 and number of epoch = 100\n",
    "model = train(X, T, 0.002, 100, verbose=True)\n",
    "model"
   ]
  },
  {
   "cell_type": "code",
   "execution_count": 43,
   "metadata": {},
   "outputs": [
    {
     "name": "stdout",
     "output_type": "stream",
     "text": [
      "Epoch 20 RMSE 0.0336\n",
      "Epoch 40 RMSE 0.0188\n",
      "Epoch 60 RMSE 0.0107\n",
      "Epoch 80 RMSE 0.0062\n",
      "Epoch 100 RMSE 0.0036\n",
      "Epoch 120 RMSE 0.0021\n",
      "Epoch 140 RMSE 0.0013\n",
      "Epoch 160 RMSE 0.0008\n",
      "Epoch 180 RMSE 0.0005\n",
      "Epoch 200 RMSE 0.0003\n"
     ]
    },
    {
     "data": {
      "text/plain": [
       "{'w': array([[ 3.41719739e-06],\n",
       "        [ 3.46202315e-01],\n",
       "        [ 3.64138751e-01],\n",
       "        [ 3.05609307e-01],\n",
       "        [ 6.80270586e-04],\n",
       "        [-3.50298526e-05],\n",
       "        [-5.64143180e-04],\n",
       "        [ 1.47242316e-05],\n",
       "        [-6.91350599e-05]]),\n",
       " 'Xmeans': array([ 9.63370137, 16.89363288,  2.37378356,  0.7994137 ,  0.84947397,\n",
       "         0.31428767,  1.14334795,  7.78255342]),\n",
       " 'Xstds': array([10.05942081, 11.24579184,  9.3914899 ,  0.47435961,  0.10807665,\n",
       "         0.17040356,  2.99119781,  2.86652354]),\n",
       " 'Tmeans': array([9.63370137]),\n",
       " 'Tstds': array([10.05942081])}"
      ]
     },
     "execution_count": 43,
     "metadata": {},
     "output_type": "execute_result"
    }
   ],
   "source": [
    "#4.learning rate=0.002 and number of epoch = 200\n",
    "model = train(X, T, 0.002, 200, verbose=True)\n",
    "model"
   ]
  },
  {
   "cell_type": "code",
   "execution_count": 44,
   "metadata": {},
   "outputs": [
    {
     "name": "stdout",
     "output_type": "stream",
     "text": [
      "Epoch 30 RMSE 0.0251\n",
      "Epoch 60 RMSE 0.0107\n",
      "Epoch 90 RMSE 0.0047\n",
      "Epoch 120 RMSE 0.0021\n",
      "Epoch 150 RMSE 0.0010\n",
      "Epoch 180 RMSE 0.0005\n",
      "Epoch 210 RMSE 0.0002\n",
      "Epoch 240 RMSE 0.0001\n",
      "Epoch 270 RMSE 0.0001\n",
      "Epoch 300 RMSE 0.0000\n"
     ]
    },
    {
     "data": {
      "text/plain": [
       "{'w': array([[-1.85097921e-09],\n",
       "        [ 3.46528570e-01],\n",
       "        [ 3.65143999e-01],\n",
       "        [ 3.05104399e-01],\n",
       "        [ 4.36072190e-05],\n",
       "        [ 3.06643890e-06],\n",
       "        [-5.51317888e-05],\n",
       "        [ 4.25291701e-07],\n",
       "        [-9.04491164e-06]]),\n",
       " 'Xmeans': array([ 9.63370137, 16.89363288,  2.37378356,  0.7994137 ,  0.84947397,\n",
       "         0.31428767,  1.14334795,  7.78255342]),\n",
       " 'Xstds': array([10.05942081, 11.24579184,  9.3914899 ,  0.47435961,  0.10807665,\n",
       "         0.17040356,  2.99119781,  2.86652354]),\n",
       " 'Tmeans': array([9.63370137]),\n",
       " 'Tstds': array([10.05942081])}"
      ]
     },
     "execution_count": 44,
     "metadata": {},
     "output_type": "execute_result"
    }
   ],
   "source": [
    "#5.learning rate=0.002 and number of epoch = 300\n",
    "model = train(X, T, 0.002, 300, verbose=True)\n",
    "model"
   ]
  },
  {
   "cell_type": "markdown",
   "metadata": {},
   "source": [
    "<h3>Answer for RMSE values</h3>\n",
    "<p>Based on the RMSE obtained, it seems like the model is performing well. A smaller RMSE value indicates that the model is making fewer errors in its predictions.</p>\n",
    "<p>In the first case, a learning rate of 0.001 and 100 epochs produced an RMSE of 0.0137, which is relatively high. This suggests that the model is still making significant errors in its predictions even after 100 epochs.</p>\n",
    "<p>In the second case, a learning rate of 0.0001 and 100 epochs produced an RMSE of 0.0546, which is even higher than the previous case</p>\n",
    "<p>In the third case, a learning rate of 0.002 and 100 epochs produced an RMSE of 0.0036, which is lower than the first case but still relatively high</p>\n",
    "<p>In the fourth case, a learning rate of 0.002 and 200 epochs produced an RMSE of 0.0003, which is significantly lower than the previous cases.</p>\n",
    "<p>In the fifth case, a learning rate of 0.002 and 300 epochs produced an RMSE of 0.0000, which is the lowest RMSE value. This suggests that the model is making almost no errors in its predictions and is highly accurate.</p>\n",
    "<p>finally, increasing the number of epochs and using a higher learning rate can improve the model's performance, but finding the optimal combination of these hyperparameters can require experimentation and can depend on the specific problem and dataset being used.</p>\n"
   ]
  },
  {
   "cell_type": "code",
   "execution_count": 45,
   "metadata": {},
   "outputs": [
    {
     "data": {
      "text/plain": [
       "<matplotlib.legend.Legend at 0x7ffd636b94c0>"
      ]
     },
     "execution_count": 45,
     "metadata": {},
     "output_type": "execute_result"
    },
    {
     "data": {
      "image/png": "[encoded data removed]",
      "text/plain": [
       "<Figure size 432x288 with 1 Axes>"
      ]
     },
     "metadata": {
      "needs_background": "light"
     },
     "output_type": "display_data"
    }
   ],
   "source": [
    "Y = use(X, model)\n",
    "#old_pred = Y\n",
    "plt.plot(T, '.', label='T')\n",
    "plt.plot(Y, '.', label='Y')\n",
    "plt.legend()"
   ]
  },
  {
   "cell_type": "code",
   "execution_count": 46,
   "metadata": {},
   "outputs": [
    {
     "data": {
      "text/plain": [
       "[<matplotlib.lines.Line2D at 0x7ffd633ba460>]"
      ]
     },
     "execution_count": 46,
     "metadata": {},
     "output_type": "execute_result"
    },
    {
     "data": {
      "image/png": "[encoded data removed]",
      "text/plain": [
       "<Figure size 432x288 with 1 Axes>"
      ]
     },
     "metadata": {
      "needs_background": "light"
     },
     "output_type": "display_data"
    }
   ],
   "source": [
    "plt.plot(Y[:, 0], T[:, 0], 'o')\n",
    "plt.xlabel('Predicted')\n",
    "plt.ylabel('Actual')\n",
    "a = max(min(Y[:, 0]), min(T[:, 0]))\n",
    "b = min(max(Y[:, 0]), max(T[:, 0]))\n",
    "plt.plot([a, b], [a, b], 'r', linewidth=3)\n"
   ]
  },
  {
   "cell_type": "markdown",
   "metadata": {},
   "source": [
    "## 5 points:\n",
    "\n",
    "Print the weight values in the resulting model along with their corresponding variable names (in `Xnames`). Use the relative magnitude\n",
    "of the weight values to discuss which input variables are most significant in predicting the changes in the tave values."
   ]
  },
  {
   "cell_type": "code",
   "execution_count": 47,
   "metadata": {},
   "outputs": [
    {
     "data": {
      "text/html": [
       "<div>\n",
       "<style scoped>\n",
       "    .dataframe tbody tr th:only-of-type {\n",
       "        vertical-align: middle;\n",
       "    }\n",
       "\n",
       "    .dataframe tbody tr th {\n",
       "        vertical-align: top;\n",
       "    }\n",
       "\n",
       "    .dataframe thead th {\n",
       "        text-align: right;\n",
       "    }\n",
       "</style>\n",
       "<table border=\"1\" class=\"dataframe\">\n",
       "  <thead>\n",
       "    <tr style=\"text-align: right;\">\n",
       "      <th></th>\n",
       "      <th>Weights</th>\n",
       "    </tr>\n",
       "  </thead>\n",
       "  <tbody>\n",
       "    <tr>\n",
       "      <th>bias</th>\n",
       "      <td>-1.850979e-09</td>\n",
       "    </tr>\n",
       "    <tr>\n",
       "      <th>tave</th>\n",
       "      <td>3.465286e-01</td>\n",
       "    </tr>\n",
       "    <tr>\n",
       "      <th>tmax</th>\n",
       "      <td>3.651440e-01</td>\n",
       "    </tr>\n",
       "    <tr>\n",
       "      <th>tmin</th>\n",
       "      <td>3.051044e-01</td>\n",
       "    </tr>\n",
       "    <tr>\n",
       "      <th>vp</th>\n",
       "      <td>4.360722e-05</td>\n",
       "    </tr>\n",
       "    <tr>\n",
       "      <th>rhmax</th>\n",
       "      <td>3.066439e-06</td>\n",
       "    </tr>\n",
       "    <tr>\n",
       "      <th>rhmin</th>\n",
       "      <td>-5.513179e-05</td>\n",
       "    </tr>\n",
       "    <tr>\n",
       "      <th>pp</th>\n",
       "      <td>4.252917e-07</td>\n",
       "    </tr>\n",
       "    <tr>\n",
       "      <th>gust</th>\n",
       "      <td>-9.044912e-06</td>\n",
       "    </tr>\n",
       "  </tbody>\n",
       "</table>\n",
       "</div>"
      ],
      "text/plain": [
       "            Weights\n",
       "bias  -1.850979e-09\n",
       "tave   3.465286e-01\n",
       "tmax   3.651440e-01\n",
       "tmin   3.051044e-01\n",
       "vp     4.360722e-05\n",
       "rhmax  3.066439e-06\n",
       "rhmin -5.513179e-05\n",
       "pp     4.252917e-07\n",
       "gust  -9.044912e-06"
      ]
     },
     "execution_count": 47,
     "metadata": {},
     "output_type": "execute_result"
    }
   ],
   "source": [
    "new_Xnames= [\"bias\"] + Xnames\n",
    "new =np.transpose(Xnames)\n",
    "index=new_Xnames\n",
    "columns=list(['Weights'])\n",
    "df2 = pandas.DataFrame(model['w'], index,columns)\n",
    "df2"
   ]
  },
  {
   "cell_type": "markdown",
   "metadata": {},
   "source": [
    "<h3>Discussion</h3>\n",
    "<p>the three most significant variables in predicting changes in tave are tave, tmax, and tmin, with weight values of 3.465286e-01,3.651440e-01 and\t3.051044e-01 respectively. These three variables have the largest weight values among all the input variables, indicating that they have the strongest influence on the average temperature.</p>\n",
    "<p>On the other hand, the variables vp, rhmax, rhmin, pp, and gust have relatively small weight values of 4.360722e-05,3.066439e-06,-5.513179e-05,4.252917e-07 and -9.044912e-06 respectively. which shows these variables have a weaker influence on the average temperature compared to tave, tmax, and tmin.</p>\n",
    "<p>Finally, the most significant variables in predicting changes in the average temperature are tave, tmax, and tmin.</p>\n",
    "\n",
    "\n"
   ]
  },
  {
   "cell_type": "markdown",
   "metadata": {},
   "source": [
    "## Grading and Check-in\n",
    "\n",
    "Your notebook will be partially graded automatically.  You can test this grading process yourself by downloading [A1grader.zip](https://www.cs.colostate.edu/~cs445/notebooks/A1grader.zip) and extract `A1grader.py` parallel to this notebook.  Run the code in the in the following cell to see an example grading run.  If your functions are defined correctly, you should see a score of 60/60.  The remaining 40 points are based on testing other data and your discussion."
   ]
  },
  {
   "cell_type": "code",
   "execution_count": 48,
   "metadata": {
    "scrolled": true
   },
   "outputs": [
    {
     "name": "stdout",
     "output_type": "stream",
     "text": [
      "\n",
      "======================= Code Execution =======================\n",
      "\n",
      "Extracting python code from notebook named 'karraA1.ipynb' and storing in notebookcode.py\n"
     ]
    },
    {
     "name": "stderr",
     "output_type": "stream",
     "text": [
      "[NbConvertApp] Converting notebook karraA1.ipynb to script\n"
     ]
    },
    {
     "name": "stdout",
     "output_type": "stream",
     "text": [
      "Removing all statements that are not function or class defs or import statements.\n",
      "\n",
      "Testing\n",
      "  X = np.array([1, 2, 3, 4, 5, 8, 9, 11]).reshape((-1, 1))\n",
      "  T = (X - 5) * 0.05 + 0.002 * (X - 8)**2\n",
      "  model = train(X, T, 0.001, 1000, True)\n",
      "\n",
      "Epoch 100 RMSE 0.4622\n",
      "Epoch 200 RMSE 0.2352\n",
      "Epoch 300 RMSE 0.1533\n",
      "Epoch 400 RMSE 0.1307\n",
      "Epoch 500 RMSE 0.1257\n",
      "Epoch 600 RMSE 0.1247\n",
      "Epoch 700 RMSE 0.1245\n",
      "Epoch 800 RMSE 0.1245\n",
      "Epoch 900 RMSE 0.1245\n",
      "Epoch 1000 RMSE 0.1245\n",
      "\n",
      "--- 20/20 points. Returned correct values.\n",
      "\n",
      "--- 10/10 points. Xmeans and Xstds are correct values.\n",
      "\n",
      "--- 10/10 points. Tmeans and Tstds are correct values.\n",
      "\n",
      "Testing\n",
      "  Y = use(X, model)\n",
      "\n",
      "\n",
      "--- 10/10 points. Returned correct values.\n",
      "\n",
      "Testing\n",
      "  err = rmse(Y, T)\n",
      "\n",
      "\n",
      "--- 10/10 points. Returned correct values.\n",
      "\n",
      "======================================================================\n",
      "a1 cs445 Execution Grade is 60 / 60\n",
      "======================================================================\n",
      "\n",
      " __ / 5 Reading in weather.data correctly.\n",
      "\n",
      " __ / 5 Count missing values, to show there are some.\n",
      "\n",
      " __ / 5 Remove samples with missing values. Count to show there are none.\n",
      "\n",
      " __ / 5 Construct X and T matrices as specified.\n",
      "\n",
      " __ / 15 Use your train function on X and T. Show results as RMSE values and as plots\n",
      "       for several different values of learning_rate and n_epochs. Type your \n",
      "       observations of RMSE values and of plots with at least five sentences.\n",
      "\n",
      " __ / 5 Print the weight values with corresponding variable names. Discuss\n",
      "       which input variablesa re most signficant in predicting tave values.\n",
      "\n",
      "======================================================================\n",
      "a1 cs445 FINAL GRADE is  _  / 100\n",
      "======================================================================\n",
      "\n",
      "Extra Credit:\n",
      "Predict the change in tave from one day to the next, instead of the actual tave.\n",
      "Show and discuss RMSE and plotting results for several values of learning_rate\n",
      "and n_epochs.\n",
      "\n",
      "a1 cs445 EXTRA CREDIT is 0 / 1\n"
     ]
    }
   ],
   "source": [
    "%run -i A1grader.py"
   ]
  },
  {
   "cell_type": "markdown",
   "metadata": {},
   "source": [
    "A different but similar grading script will be used to grade yout checked-in notebook.  It will include different tests.\n",
    "\n",
    "You must name your notebook as `Lastname-A1.ipynb` with `Lastname` being your last name, and then save this notebook and check it in at the A1 assignment link in our Canvas web page."
   ]
  },
  {
   "cell_type": "markdown",
   "metadata": {},
   "source": [
    "## Extra Credit: 1 point"
   ]
  },
  {
   "cell_type": "markdown",
   "metadata": {},
   "source": [
    "A typical problem when predicting the next value in a time series is\n",
    "that the best solution may be to predict the previous value.  The\n",
    "predicted value will look a lot like the input tave value shifted on\n",
    "time step later.\n",
    "\n",
    "To do better, try predicting the change in tave from one day to the next. `T` can be assigned as"
   ]
  },
  {
   "cell_type": "markdown",
   "metadata": {},
   "source": [
    "Now repeat the training experiments to pick good `learning_rate` and\n",
    "`n_epochs`.  Use predicted values to produce next day tave values by\n",
    "adding the predicted values to the previous day's tave.  Use `rmse`\n",
    "to determine if this way of predicting next tave is better than\n",
    "directly predicting tave."
   ]
  }
 ],
 "metadata": {
  "jupytext": {
   "formats": "ipynb,py"
  },
  "kernelspec": {
   "display_name": "Python 3 (ipykernel)",
   "language": "python",
   "name": "python3"
  },
  "language_info": {
   "codemirror_mode": {
    "name": "ipython",
    "version": 3
   },
   "file_extension": ".py",
   "mimetype": "text/x-python",
   "name": "python",
   "nbconvert_exporter": "python",
   "pygments_lexer": "ipython3",
   "version": "3.9.12"
  }
 },
 "nbformat": 4,
 "nbformat_minor": 2
}
